{
 "cells": [
  {
   "cell_type": "markdown",
   "metadata": {},
   "source": [
    "# Results, section 3:"
   ]
  },
  {
   "cell_type": "code",
   "execution_count": 1,
   "metadata": {},
   "outputs": [],
   "source": [
    "import os, sys\n",
    "import pandas as pd\n",
    "import numpy as np\n",
    "import seaborn as sns\n",
    "import scipy as sp\n",
    "from scipy import stats\n",
    "import matplotlib.pyplot as plt"
   ]
  },
  {
   "cell_type": "code",
   "execution_count": 2,
   "metadata": {},
   "outputs": [],
   "source": [
    "sys.path.append('/Users/lindenmp/Dropbox/Work/ResProjects/NormativeNeuroDev_CrossSec/code/func/')\n",
    "from proj_environment import set_proj_env\n",
    "from func import run_corr, get_fdr_p, get_cmap, perc_dev, get_fdr_p_df"
   ]
  },
  {
   "cell_type": "code",
   "execution_count": 3,
   "metadata": {},
   "outputs": [],
   "source": [
    "train_test_str = 'squeakycleanExclude' # 'squeakycleanExclude' 'trte_psychopathology'\n",
    "exclude_str = 't1Exclude' # 't1Exclude' 'fsFinalExclude'\n",
    "parc_str = 'schaefer' # 'schaefer' 'lausanne'\n",
    "parc_scale = 400\n",
    "primary_covariate = 'ageAtScan1_Years'\n",
    "parcel_names, parcel_loc, drop_parcels, num_parcels, yeo_idx, yeo_labels = set_proj_env(train_test_str = train_test_str, exclude_str = exclude_str,\n",
    "                                                                            parc_str = parc_str, parc_scale = parc_scale)"
   ]
  },
  {
   "cell_type": "code",
   "execution_count": 4,
   "metadata": {},
   "outputs": [
    {
     "data": {
      "text/plain": [
       "'/Users/lindenmp/Dropbox/Work/ResProjects/NormativeNeuroDev_CrossSec/analysis/normative/t1Exclude/squeakycleanExclude/schaefer_400_streamlineCount/ageAtScan1_Years+sex_adj'"
      ]
     },
     "execution_count": 4,
     "metadata": {},
     "output_type": "execute_result"
    }
   ],
   "source": [
    "os.environ['NORMATIVEDIR']"
   ]
  },
  {
   "cell_type": "code",
   "execution_count": 5,
   "metadata": {},
   "outputs": [],
   "source": [
    "metrics = ('ct', 'str', 'ac', 'mc')\n",
    "phenos = ('Overall_Psychopathology','Psychosis_Positive','Psychosis_NegativeDisorg','AnxiousMisery','Externalizing','Fear')"
   ]
  },
  {
   "cell_type": "markdown",
   "metadata": {},
   "source": [
    "## Load data pre-nispat data"
   ]
  },
  {
   "cell_type": "code",
   "execution_count": 6,
   "metadata": {},
   "outputs": [
    {
     "name": "stdout",
     "output_type": "stream",
     "text": [
      "(317, 21)\n",
      "(783, 21)\n"
     ]
    }
   ],
   "source": [
    "# Train\n",
    "df_train = pd.read_csv(os.path.join(os.environ['NORMATIVEDIR'], 'train.csv'))\n",
    "df_train.set_index(['bblid', 'scanid'], inplace = True); print(df_train.shape)\n",
    "df_node_train = pd.read_csv(os.path.join(os.environ['NORMATIVEDIR'], 'resp_train.csv'))\n",
    "df_node_train.set_index(['bblid', 'scanid'], inplace = True)\n",
    "\n",
    "# Test\n",
    "df = pd.read_csv(os.path.join(os.environ['NORMATIVEDIR'], 'test.csv'))\n",
    "df.set_index(['bblid', 'scanid'], inplace = True); print(df.shape)\n",
    "df_node = pd.read_csv(os.path.join(os.environ['NORMATIVEDIR'], 'resp_test.csv'))\n",
    "df_node.set_index(['bblid', 'scanid'], inplace = True)"
   ]
  },
  {
   "cell_type": "markdown",
   "metadata": {},
   "source": [
    "## Age effects"
   ]
  },
  {
   "cell_type": "code",
   "execution_count": 7,
   "metadata": {},
   "outputs": [],
   "source": [
    "# age effect on training set\n",
    "df_age_effect = run_corr(df_train[primary_covariate], df_node_train, typ = 'spearmanr'); df_age_effect['p_fdr'] = get_fdr_p(df_age_effect['p'])\n",
    "if parc_str == 'lausanne':\n",
    "    df_age_effect.drop(my_list, axis = 0, inplace = True)\n",
    "age_alpha = 0.05\n",
    "age_filter = df_age_effect['p_fdr'].values < age_alpha"
   ]
  },
  {
   "cell_type": "code",
   "execution_count": 8,
   "metadata": {},
   "outputs": [
    {
     "data": {
      "text/plain": [
       "1012"
      ]
     },
     "execution_count": 8,
     "metadata": {},
     "output_type": "execute_result"
    }
   ],
   "source": [
    "age_filter.sum()"
   ]
  },
  {
   "cell_type": "markdown",
   "metadata": {},
   "source": [
    "## Load nispat outputs"
   ]
  },
  {
   "cell_type": "code",
   "execution_count": 9,
   "metadata": {},
   "outputs": [],
   "source": [
    "# Forward model\n",
    "synth_cov_test = pd.read_csv(os.path.join(os.environ['NORMATIVEDIR'], 'forward/synth_cov_test.txt'),\n",
    "                             delim_whitespace = True, names=[primary_covariate, 'sex_adj'])\n",
    "\n",
    "yhat_forward = np.loadtxt(os.path.join(os.environ['NORMATIVEDIR'], 'forward/yhat.txt'), delimiter = ' ').transpose()\n",
    "df_yhat_forward = pd.DataFrame(data = yhat_forward, index = synth_cov_test.index, columns = df_node.columns)"
   ]
  },
  {
   "cell_type": "code",
   "execution_count": 10,
   "metadata": {},
   "outputs": [],
   "source": [
    "smse = np.loadtxt(os.path.join(os.environ['NORMATIVEDIR'], 'smse.txt'), delimiter = ' ').transpose()\n",
    "df_smse = pd.DataFrame(data = smse, index = df_node.columns)\n",
    "\n",
    "z = np.loadtxt(os.path.join(os.environ['NORMATIVEDIR'], 'Z.txt'), delimiter = ' ').transpose()\n",
    "df_z = pd.DataFrame(data = z, index = df_node.index, columns = df_node.columns)"
   ]
  },
  {
   "cell_type": "code",
   "execution_count": 11,
   "metadata": {},
   "outputs": [],
   "source": [
    "smse_thresh = 1\n",
    "smse_filter = df_smse.values < smse_thresh\n",
    "smse_filter = smse_filter.reshape(-1)"
   ]
  },
  {
   "cell_type": "code",
   "execution_count": 12,
   "metadata": {},
   "outputs": [
    {
     "data": {
      "text/plain": [
       "1023"
      ]
     },
     "execution_count": 12,
     "metadata": {},
     "output_type": "execute_result"
    }
   ],
   "source": [
    "smse_filter.sum()"
   ]
  },
  {
   "cell_type": "code",
   "execution_count": 13,
   "metadata": {},
   "outputs": [
    {
     "data": {
      "text/plain": [
       "841"
      ]
     },
     "execution_count": 13,
     "metadata": {},
     "output_type": "execute_result"
    }
   ],
   "source": [
    "region_filter = np.logical_and(age_filter,smse_filter)\n",
    "region_filter.sum()"
   ]
  },
  {
   "cell_type": "markdown",
   "metadata": {},
   "source": [
    "### The interpretation of the z-deviations varies as a function of the age-effect from which the normative model is primarily derived.\n",
    "### For instance, if the normative model predicts a _decrease_ in y with age, then _positive deviations_ may be interpreted as a **_delay_** in this maturational reduction, wheras _negative deviations_ may be interpreted as an _advancement_ in this maturational reduction.\n",
    "### However, if the normative model predicts an _increase_ in y with age, then the interpretation of the deviations is reversed. That is:\n",
    "#### IF predicted change = negative: _positive deviations_ = **_delay_** || _negative deviations_ = **_advance_**\n",
    "#### IF predicted change = positive: _positive deviations_ = **_advance_** || _negative deviations_ = **_delay_**"
   ]
  },
  {
   "cell_type": "code",
   "execution_count": 14,
   "metadata": {},
   "outputs": [],
   "source": [
    "# at each roi, the differences between first and last age point in the synthetic data\n",
    "# for each node/metric, a negative value means that the nm predicted an overall decrease in y with age (i.e, a negative function),\n",
    "# while a positive values means that the nm predicted an overall increase in y with age (i.e., a positive function)\n",
    "df_yhat_tmp1 = df_yhat_forward[synth_cov_test['sex_adj'] == 0].iloc[-1,:] - df_yhat_forward[synth_cov_test['sex_adj'] == 0].iloc[0,:]\n",
    "df_yhat_tmp2 = df_yhat_forward[synth_cov_test['sex_adj'] == 1].iloc[-1,:] - df_yhat_forward[synth_cov_test['sex_adj'] == 1].iloc[0,:]\n",
    "df_yhat_diff = pd.concat((df_yhat_tmp1, df_yhat_tmp2), axis = 1)\n",
    "\n",
    "# boolean that designates which regions carry with positive predicted change.\n",
    "nm_is_pos = df_yhat_diff[0] > 0\n",
    "\n",
    "# flipping the z-stats in these regions has the effect of standardising their interpration across the brain to be inline\n",
    "# with the negative predicted change statement above\n",
    "df_z.loc[:,nm_is_pos] = df_z.loc[:,nm_is_pos] * -1"
   ]
  },
  {
   "cell_type": "markdown",
   "metadata": {},
   "source": [
    "## Get pheno-nispat relationships"
   ]
  },
  {
   "cell_type": "code",
   "execution_count": 15,
   "metadata": {},
   "outputs": [],
   "source": [
    "df_pheno_z = pd.read_csv(os.path.join(os.environ['NORMATIVEDIR'], 'df_corr_pheno_z.csv'))\n",
    "df_pheno_z.set_index(['pheno','node'], inplace = True)"
   ]
  },
  {
   "cell_type": "code",
   "execution_count": 16,
   "metadata": {},
   "outputs": [
    {
     "name": "stdout",
     "output_type": "stream",
     "text": [
      "244 significant effects (fdr)\n"
     ]
    }
   ],
   "source": [
    "print(str(np.sum(df_pheno_z['sig_age_smse'])) + ' significant effects (fdr)')"
   ]
  },
  {
   "cell_type": "markdown",
   "metadata": {},
   "source": [
    "# Plots"
   ]
  },
  {
   "cell_type": "code",
   "execution_count": 17,
   "metadata": {},
   "outputs": [
    {
     "name": "stdout",
     "output_type": "stream",
     "text": [
      "('Overall_Psychopathology', 'Psychosis_Positive', 'Psychosis_NegativeDisorg', 'AnxiousMisery', 'Externalizing', 'Fear')\n",
      "('ct', 'str', 'ac', 'mc')\n"
     ]
    }
   ],
   "source": [
    "if not os.path.exists(os.environ['FIGDIR']): os.makedirs(os.environ['FIGDIR'])\n",
    "os.chdir(os.environ['FIGDIR'])\n",
    "sns.set(style='white', context = 'paper', font_scale = 1)\n",
    "cmap = get_cmap('pair')\n",
    "\n",
    "phenos = ('Overall_Psychopathology','Psychosis_Positive','Psychosis_NegativeDisorg','AnxiousMisery','Externalizing','Fear')\n",
    "phenos_label_short = ('Ov. Psych.', 'Psy. (pos.)', 'Psy. (neg.)', 'Anx.-mis.', 'Ext.', 'Fear')\n",
    "phenos_label = ('Overall Psychopathology','Psychosis (Positive)','Psychosis (Negative)','Anxious-Misery','Externalizing','Fear')\n",
    "metrics = ('ct', 'str', 'ac', 'mc')\n",
    "metrics_label_short = ('Thickness', 'Strength', 'Ave. ctrb.', 'Mod. ctrb.')\n",
    "metrics_label = ('Thickness', 'Strength', 'Average controllability', 'Modal controllability')\n",
    "\n",
    "print(phenos)\n",
    "print(metrics)\n",
    "\n",
    "metrics_labels = list()\n",
    "for metric in metrics:\n",
    "    tmp_labels = [metric + '_' + str(i) for i in range(num_parcels)]\n",
    "    metrics_labels = metrics_labels + tmp_labels"
   ]
  },
  {
   "cell_type": "markdown",
   "metadata": {},
   "source": [
    "### Calculate node summary metrics"
   ]
  },
  {
   "cell_type": "code",
   "execution_count": 18,
   "metadata": {},
   "outputs": [],
   "source": [
    "z_thr = 2.6    \n",
    "# percent of supra-threshold (cf. Wolfers et al. JAMA Psych)\n",
    "node_z_perc_p = perc_dev(df_z.transpose(), thr = z_thr, sign = 'pos')\n",
    "node_z_perc_n = perc_dev(df_z.transpose(), thr = z_thr, sign = 'neg')"
   ]
  },
  {
   "cell_type": "code",
   "execution_count": 19,
   "metadata": {},
   "outputs": [
    {
     "name": "stdout",
     "output_type": "stream",
     "text": [
      "max +ve % for ct: 1.28\n",
      "max -ve % for ct: 0.77\n",
      "\n",
      "max +ve % for str: 3.45\n",
      "max -ve % for str: 3.32\n",
      "\n",
      "max +ve % for ac: 7.66\n",
      "max -ve % for ac: 6.13\n",
      "\n",
      "max +ve % for mc: 8.17\n",
      "max -ve % for mc: 0.26\n",
      "\n"
     ]
    }
   ],
   "source": [
    "for metric in metrics:\n",
    "    roi_data = node_z_perc_p[region_filter].filter(regex = metric)\n",
    "    print('max +ve % for ' + metric + ': ' + str(np.round(roi_data.max(),2)))\n",
    "    roi_data = node_z_perc_n[region_filter].filter(regex = metric)\n",
    "    print('max -ve % for ' + metric + ': ' + str(np.round(roi_data.max(),2)))\n",
    "    print()"
   ]
  },
  {
   "cell_type": "code",
   "execution_count": 20,
   "metadata": {},
   "outputs": [],
   "source": [
    "pos_counts = pd.DataFrame(index = metrics, columns = phenos[1:])\n",
    "neg_counts = pd.DataFrame(index = metrics, columns = phenos[1:])\n",
    "stat_ttest = pd.DataFrame(index = metrics, columns = phenos[1:])\n",
    "stat_ttest_p = pd.DataFrame(index = metrics, columns = phenos[1:])\n",
    "which_ttest = pd.DataFrame(index = metrics, columns = phenos[1:])\n",
    "\n",
    "\n",
    "for pheno in phenos[1:]:\n",
    "    for metric in metrics:\n",
    "#         pheno_bol = df_pheno_z.loc[pheno,'sig_age'].filter(regex = metric)\n",
    "        pheno_bol = df_pheno_z.loc[pheno,'sig_age_smse'].filter(regex = metric)\n",
    "        if pheno_bol.sum() > 1:\n",
    "            x = node_z_perc_p.filter(regex = metric)[pheno_bol]\n",
    "            y = node_z_perc_n.filter(regex = metric)[pheno_bol]\n",
    "\n",
    "            if np.mean(x) == 0 or np.mean(y) == 0:\n",
    "                if np.var(x) == 0 or np.mean(x) == 0:\n",
    "                    stat_ttest.loc[metric,pheno] = sp.stats.ttest_1samp(y, popmean = 0)[0]\n",
    "                    stat_ttest_p.loc[metric,pheno] = sp.stats.ttest_1samp(y, popmean = 0)[1]\n",
    "                    which_ttest.loc[metric,pheno] = 'sinT'\n",
    "                elif np.var(y) == 0 or np.mean(y) == 0:\n",
    "                    stat_ttest.loc[metric,pheno] = sp.stats.ttest_1samp(x, popmean = 0)[0]\n",
    "                    stat_ttest_p.loc[metric,pheno] = sp.stats.ttest_1samp(x, popmean = 0)[1]\n",
    "                    which_ttest.loc[metric,pheno] = 'sinT'\n",
    "            else:   \n",
    "                stat_ttest.loc[metric,pheno] = sp.stats.ttest_rel(x,y)[0]\n",
    "                stat_ttest_p.loc[metric,pheno] = sp.stats.ttest_rel(x,y)[1]\n",
    "                which_ttest.loc[metric,pheno] = 'repT'\n",
    "\n",
    "            pos_counts.loc[metric,pheno] = x.mean()\n",
    "            neg_counts.loc[metric,pheno] = y.mean()\n",
    "            \n",
    "stat_ttest_p_fdr = get_fdr_p_df(stat_ttest_p)"
   ]
  },
  {
   "cell_type": "code",
   "execution_count": 21,
   "metadata": {},
   "outputs": [
    {
     "data": {
      "text/html": [
       "<div>\n",
       "<style scoped>\n",
       "    .dataframe tbody tr th:only-of-type {\n",
       "        vertical-align: middle;\n",
       "    }\n",
       "\n",
       "    .dataframe tbody tr th {\n",
       "        vertical-align: top;\n",
       "    }\n",
       "\n",
       "    .dataframe thead th {\n",
       "        text-align: right;\n",
       "    }\n",
       "</style>\n",
       "<table border=\"1\" class=\"dataframe\">\n",
       "  <thead>\n",
       "    <tr style=\"text-align: right;\">\n",
       "      <th></th>\n",
       "      <th>Psychosis_Positive</th>\n",
       "      <th>Psychosis_NegativeDisorg</th>\n",
       "      <th>AnxiousMisery</th>\n",
       "      <th>Externalizing</th>\n",
       "      <th>Fear</th>\n",
       "    </tr>\n",
       "  </thead>\n",
       "  <tbody>\n",
       "    <tr>\n",
       "      <th>ct</th>\n",
       "      <td>repT</td>\n",
       "      <td>repT</td>\n",
       "      <td>repT</td>\n",
       "      <td>repT</td>\n",
       "      <td>repT</td>\n",
       "    </tr>\n",
       "    <tr>\n",
       "      <th>str</th>\n",
       "      <td>NaN</td>\n",
       "      <td>NaN</td>\n",
       "      <td>NaN</td>\n",
       "      <td>sinT</td>\n",
       "      <td>repT</td>\n",
       "    </tr>\n",
       "    <tr>\n",
       "      <th>ac</th>\n",
       "      <td>repT</td>\n",
       "      <td>NaN</td>\n",
       "      <td>NaN</td>\n",
       "      <td>sinT</td>\n",
       "      <td>sinT</td>\n",
       "    </tr>\n",
       "    <tr>\n",
       "      <th>mc</th>\n",
       "      <td>sinT</td>\n",
       "      <td>sinT</td>\n",
       "      <td>sinT</td>\n",
       "      <td>repT</td>\n",
       "      <td>repT</td>\n",
       "    </tr>\n",
       "  </tbody>\n",
       "</table>\n",
       "</div>"
      ],
      "text/plain": [
       "    Psychosis_Positive Psychosis_NegativeDisorg AnxiousMisery Externalizing  \\\n",
       "ct                repT                     repT          repT          repT   \n",
       "str                NaN                      NaN           NaN          sinT   \n",
       "ac                repT                      NaN           NaN          sinT   \n",
       "mc                sinT                     sinT          sinT          repT   \n",
       "\n",
       "     Fear  \n",
       "ct   repT  \n",
       "str  repT  \n",
       "ac   sinT  \n",
       "mc   repT  "
      ]
     },
     "execution_count": 21,
     "metadata": {},
     "output_type": "execute_result"
    }
   ],
   "source": [
    "which_ttest"
   ]
  },
  {
   "cell_type": "code",
   "execution_count": 22,
   "metadata": {},
   "outputs": [
    {
     "data": {
      "text/html": [
       "<div>\n",
       "<style scoped>\n",
       "    .dataframe tbody tr th:only-of-type {\n",
       "        vertical-align: middle;\n",
       "    }\n",
       "\n",
       "    .dataframe tbody tr th {\n",
       "        vertical-align: top;\n",
       "    }\n",
       "\n",
       "    .dataframe thead th {\n",
       "        text-align: right;\n",
       "    }\n",
       "</style>\n",
       "<table border=\"1\" class=\"dataframe\">\n",
       "  <thead>\n",
       "    <tr style=\"text-align: right;\">\n",
       "      <th></th>\n",
       "      <th>Psychosis_Positive</th>\n",
       "      <th>Psychosis_NegativeDisorg</th>\n",
       "      <th>AnxiousMisery</th>\n",
       "      <th>Externalizing</th>\n",
       "      <th>Fear</th>\n",
       "    </tr>\n",
       "  </thead>\n",
       "  <tbody>\n",
       "    <tr>\n",
       "      <th>ct</th>\n",
       "      <td>True</td>\n",
       "      <td>True</td>\n",
       "      <td>True</td>\n",
       "      <td>True</td>\n",
       "      <td>True</td>\n",
       "    </tr>\n",
       "    <tr>\n",
       "      <th>str</th>\n",
       "      <td>False</td>\n",
       "      <td>False</td>\n",
       "      <td>False</td>\n",
       "      <td>True</td>\n",
       "      <td>False</td>\n",
       "    </tr>\n",
       "    <tr>\n",
       "      <th>ac</th>\n",
       "      <td>True</td>\n",
       "      <td>False</td>\n",
       "      <td>False</td>\n",
       "      <td>True</td>\n",
       "      <td>True</td>\n",
       "    </tr>\n",
       "    <tr>\n",
       "      <th>mc</th>\n",
       "      <td>True</td>\n",
       "      <td>True</td>\n",
       "      <td>True</td>\n",
       "      <td>True</td>\n",
       "      <td>True</td>\n",
       "    </tr>\n",
       "  </tbody>\n",
       "</table>\n",
       "</div>"
      ],
      "text/plain": [
       "     Psychosis_Positive  Psychosis_NegativeDisorg  AnxiousMisery  \\\n",
       "ct                 True                      True           True   \n",
       "str               False                     False          False   \n",
       "ac                 True                     False          False   \n",
       "mc                 True                      True           True   \n",
       "\n",
       "     Externalizing   Fear  \n",
       "ct            True   True  \n",
       "str           True  False  \n",
       "ac            True   True  \n",
       "mc            True   True  "
      ]
     },
     "execution_count": 22,
     "metadata": {},
     "output_type": "execute_result"
    }
   ],
   "source": [
    "pos_counts > neg_counts"
   ]
  },
  {
   "cell_type": "code",
   "execution_count": 23,
   "metadata": {},
   "outputs": [
    {
     "data": {
      "text/html": [
       "<div>\n",
       "<style scoped>\n",
       "    .dataframe tbody tr th:only-of-type {\n",
       "        vertical-align: middle;\n",
       "    }\n",
       "\n",
       "    .dataframe tbody tr th {\n",
       "        vertical-align: top;\n",
       "    }\n",
       "\n",
       "    .dataframe thead th {\n",
       "        text-align: right;\n",
       "    }\n",
       "</style>\n",
       "<table border=\"1\" class=\"dataframe\">\n",
       "  <thead>\n",
       "    <tr style=\"text-align: right;\">\n",
       "      <th></th>\n",
       "      <th>Psychosis_Positive</th>\n",
       "      <th>Psychosis_NegativeDisorg</th>\n",
       "      <th>AnxiousMisery</th>\n",
       "      <th>Externalizing</th>\n",
       "      <th>Fear</th>\n",
       "    </tr>\n",
       "  </thead>\n",
       "  <tbody>\n",
       "    <tr>\n",
       "      <th>ct</th>\n",
       "      <td>NaN</td>\n",
       "      <td>2.74174</td>\n",
       "      <td>2.96154</td>\n",
       "      <td>4.09236</td>\n",
       "      <td>4.68432</td>\n",
       "    </tr>\n",
       "    <tr>\n",
       "      <th>str</th>\n",
       "      <td>NaN</td>\n",
       "      <td>NaN</td>\n",
       "      <td>NaN</td>\n",
       "      <td>NaN</td>\n",
       "      <td>NaN</td>\n",
       "    </tr>\n",
       "    <tr>\n",
       "      <th>ac</th>\n",
       "      <td>NaN</td>\n",
       "      <td>NaN</td>\n",
       "      <td>NaN</td>\n",
       "      <td>5.20176</td>\n",
       "      <td>13.8444</td>\n",
       "    </tr>\n",
       "    <tr>\n",
       "      <th>mc</th>\n",
       "      <td>7.61472</td>\n",
       "      <td>6.30971</td>\n",
       "      <td>6.11884</td>\n",
       "      <td>9.32182</td>\n",
       "      <td>11.5222</td>\n",
       "    </tr>\n",
       "  </tbody>\n",
       "</table>\n",
       "</div>"
      ],
      "text/plain": [
       "    Psychosis_Positive Psychosis_NegativeDisorg AnxiousMisery Externalizing  \\\n",
       "ct                 NaN                  2.74174       2.96154       4.09236   \n",
       "str                NaN                      NaN           NaN           NaN   \n",
       "ac                 NaN                      NaN           NaN       5.20176   \n",
       "mc             7.61472                  6.30971       6.11884       9.32182   \n",
       "\n",
       "        Fear  \n",
       "ct   4.68432  \n",
       "str      NaN  \n",
       "ac   13.8444  \n",
       "mc   11.5222  "
      ]
     },
     "execution_count": 23,
     "metadata": {},
     "output_type": "execute_result"
    }
   ],
   "source": [
    "stat_ttest[stat_ttest_p_fdr < 0.05]"
   ]
  },
  {
   "cell_type": "markdown",
   "metadata": {},
   "source": [
    "Figure 5"
   ]
  },
  {
   "cell_type": "code",
   "execution_count": 24,
   "metadata": {},
   "outputs": [
    {
     "data": {
      "image/png": "[encoded data removed]",
      "text/plain": [
       "<Figure size 144x108 with 2 Axes>"
      ]
     },
     "metadata": {},
     "output_type": "display_data"
    }
   ],
   "source": [
    "f, ax = plt.subplots()\n",
    "f.set_figwidth(2)\n",
    "f.set_figheight(1.5)\n",
    "ax = sns.heatmap(pos_counts.astype(float), center = 0, vmin = 0, vmax = 5.5, annot = True, cmap = 'RdBu_r', cbar_kws={'label': 'Percent EPDs (mean)', 'shrink':1}, square = True, fmt='.1f', annot_kws={\"size\": 8})\n",
    "ax.set_xticklabels(phenos_label_short[1:], rotation = 45, fontsize = 8)\n",
    "ax.set_yticklabels(metrics_label_short, rotation = 0, fontsize = 8)\n",
    "ax.set_ylabel('')\n",
    "f.savefig('epd_count.svg', dpi = 300, bbox_inches = 'tight', pad_inches = 0)"
   ]
  },
  {
   "cell_type": "code",
   "execution_count": 25,
   "metadata": {},
   "outputs": [
    {
     "data": {
      "image/png": "[encoded data removed]",
      "text/plain": [
       "<Figure size 144x108 with 2 Axes>"
      ]
     },
     "metadata": {},
     "output_type": "display_data"
    }
   ],
   "source": [
    "f, ax = plt.subplots()\n",
    "f.set_figwidth(2)\n",
    "f.set_figheight(1.5)\n",
    "ax = sns.heatmap(neg_counts.astype(float), center = 0, vmin = 0, vmax = 5.5, annot = True, cmap = 'RdBu', cbar_kws={'label': 'Percent ENDs (mean)', 'shrink':1}, square = True, fmt='.1f', annot_kws={\"size\": 8})\n",
    "ax.set_xticklabels(phenos_label_short[1:], rotation = 45, fontsize = 8)\n",
    "ax.set_yticklabels('', rotation = 0, fontsize = 8)\n",
    "ax.set_ylabel('')\n",
    "f.savefig('end_count.svg', dpi = 300, bbox_inches = 'tight', pad_inches = 0)"
   ]
  },
  {
   "cell_type": "code",
   "execution_count": 26,
   "metadata": {},
   "outputs": [
    {
     "data": {
      "image/png": "[encoded data removed]",
      "text/plain": [
       "<Figure size 144x108 with 2 Axes>"
      ]
     },
     "metadata": {},
     "output_type": "display_data"
    }
   ],
   "source": [
    "f, ax = plt.subplots()\n",
    "f.set_figwidth(2)\n",
    "f.set_figheight(1.5)\n",
    "ax = sns.heatmap(stat_ttest[stat_ttest_p_fdr < 0.05].astype(float), center = 0, vmin = 0, annot = True, cbar_kws={'label': '$\\it{t}$ statistics', 'shrink':1}, square = True, fmt='.1f', annot_kws={\"size\": 8})\n",
    "ax.set_xticklabels(phenos_label_short[1:], rotation = 45, fontsize = 8)\n",
    "ax.set_yticklabels('', rotation = 0, fontsize = 8)\n",
    "ax.set_ylabel('')\n",
    "f.savefig('epd-vs-end_ttest.svg', dpi = 300, bbox_inches = 'tight', pad_inches = 0)"
   ]
  },
  {
   "cell_type": "markdown",
   "metadata": {},
   "source": [
    "## Overlap between individuals"
   ]
  },
  {
   "cell_type": "markdown",
   "metadata": {},
   "source": [
    "### Calculate subject summary metrics"
   ]
  },
  {
   "cell_type": "code",
   "execution_count": 27,
   "metadata": {},
   "outputs": [],
   "source": [
    "# percent of supra-threshold (cf. Wolfers et al. JAMA Psych)\n",
    "for metric in metrics:\n",
    "    # percent of supra-threshold (cf. Wolfers et al. JAMA Psych)\n",
    "    df[metric + '_z_perc-p'] = perc_dev(df_z.filter(regex = metric), thr = z_thr, sign = 'pos')\n",
    "    df[metric + '_z_perc-n'] = perc_dev(df_z.filter(regex = metric), thr = z_thr, sign = 'neg')"
   ]
  },
  {
   "cell_type": "code",
   "execution_count": 28,
   "metadata": {},
   "outputs": [
    {
     "data": {
      "text/plain": [
       "0.990521327014218"
      ]
     },
     "execution_count": 28,
     "metadata": {},
     "output_type": "execute_result"
    }
   ],
   "source": [
    "pos_bol = df['ct_z_perc-p'] > 0 # vectors of people with non-zero 0 percentages extreme positive deviations\n",
    "neg_bol = df['ct_z_perc-n'] > 0 # vectors of people with non-zero 0 percentages extreme negative deviations\n",
    "sp.spatial.distance.jaccard(pos_bol, neg_bol)"
   ]
  },
  {
   "cell_type": "code",
   "execution_count": 29,
   "metadata": {},
   "outputs": [
    {
     "data": {
      "text/plain": [
       "0.7612359550561798"
      ]
     },
     "execution_count": 29,
     "metadata": {},
     "output_type": "execute_result"
    }
   ],
   "source": [
    "pos_bol = df['str_z_perc-p'] > 0 # vectors of people with non-zero 0 percentages extreme positive deviations\n",
    "neg_bol = df['str_z_perc-n'] > 0 # vectors of people with non-zero 0 percentages extreme negative deviations\n",
    "sp.spatial.distance.jaccard(pos_bol, neg_bol)"
   ]
  },
  {
   "cell_type": "code",
   "execution_count": 30,
   "metadata": {},
   "outputs": [
    {
     "data": {
      "text/plain": [
       "0.2559366754617414"
      ]
     },
     "execution_count": 30,
     "metadata": {},
     "output_type": "execute_result"
    }
   ],
   "source": [
    "pos_bol = df['ac_z_perc-p'] > 0 # vectors of people with non-zero 0 percentages extreme positive deviations\n",
    "neg_bol = df['ac_z_perc-n'] > 0 # vectors of people with non-zero 0 percentages extreme negative deviations\n",
    "sp.spatial.distance.jaccard(pos_bol, neg_bol)"
   ]
  },
  {
   "cell_type": "code",
   "execution_count": 31,
   "metadata": {},
   "outputs": [
    {
     "data": {
      "text/plain": [
       "0.3731543624161074"
      ]
     },
     "execution_count": 31,
     "metadata": {},
     "output_type": "execute_result"
    }
   ],
   "source": [
    "pos_bol = df['mc_z_perc-p'] > 0 # vectors of people with non-zero 0 percentages extreme positive deviations\n",
    "neg_bol = df['mc_z_perc-n'] > 0 # vectors of people with non-zero 0 percentages extreme negative deviations\n",
    "sp.spatial.distance.jaccard(pos_bol, neg_bol)"
   ]
  },
  {
   "cell_type": "markdown",
   "metadata": {},
   "source": [
    "## Brain plots nispat"
   ]
  },
  {
   "cell_type": "code",
   "execution_count": 32,
   "metadata": {},
   "outputs": [],
   "source": [
    "import matplotlib.image as mpimg\n",
    "from brain_plot_func import roi_to_vtx, brain_plot"
   ]
  },
  {
   "cell_type": "code",
   "execution_count": 33,
   "metadata": {},
   "outputs": [],
   "source": [
    "if parc_str == 'schaefer':\n",
    "    subject_id = 'fsaverage'\n",
    "elif parc_str == 'lausanne':\n",
    "    subject_id = 'lausanne125'"
   ]
  },
  {
   "cell_type": "code",
   "execution_count": 34,
   "metadata": {},
   "outputs": [
    {
     "name": "stdout",
     "output_type": "stream",
     "text": [
      "Populating the interactive namespace from numpy and matplotlib\n"
     ]
    },
    {
     "name": "stderr",
     "output_type": "stream",
     "text": [
      "/Users/lindenmp/.virtualenvs/NeuroDev_NetworkControl/lib/python3.7/site-packages/IPython/core/magics/pylab.py:160: UserWarning: pylab import has clobbered these variables: ['f', 'get_cmap']\n",
      "`%matplotlib` prevents importing * from pylab and numpy\n",
      "  \"\\n`%matplotlib` prevents importing * from pylab and numpy\"\n"
     ]
    }
   ],
   "source": [
    "%pylab qt"
   ]
  },
  {
   "cell_type": "markdown",
   "metadata": {},
   "source": [
    "## Brain plots - overlap maps"
   ]
  },
  {
   "cell_type": "code",
   "execution_count": 35,
   "metadata": {},
   "outputs": [
    {
     "name": "stdout",
     "output_type": "stream",
     "text": [
      "colormap sequential: [0.00e+00, 5.75e-01, 1.15e+00] (opaque)\n",
      "colormap sequential: [0.00e+00, 5.75e-01, 1.15e+00] (opaque)\n",
      "colormap sequential: [0.00e+00, 3.83e-01, 7.66e-01] (opaque)\n",
      "colormap sequential: [0.00e+00, 3.83e-01, 7.66e-01] (opaque)\n",
      "colormap sequential: [0.00e+00, 6.39e-01, 1.28e+00] (opaque)\n",
      "colormap sequential: [0.00e+00, 6.39e-01, 1.28e+00] (opaque)\n",
      "colormap sequential: [0.00e+00, 3.19e-01, 6.39e-01] (opaque)\n",
      "colormap sequential: [0.00e+00, 3.19e-01, 6.39e-01] (opaque)\n",
      "colormap sequential: [0.00e+00, 2.11e+00, 4.21e+00] (opaque)\n",
      "colormap sequential: [0.00e+00, 2.11e+00, 4.21e+00] (opaque)\n",
      "colormap sequential: [0.00e+00, 1.66e+00, 3.32e+00] (opaque)\n",
      "colormap sequential: [0.00e+00, 1.66e+00, 3.32e+00] (opaque)\n",
      "colormap sequential: [0.00e+00, 2.49e+00, 4.98e+00] (opaque)\n",
      "colormap sequential: [0.00e+00, 2.49e+00, 4.98e+00] (opaque)\n",
      "colormap sequential: [0.00e+00, 1.72e+00, 3.45e+00] (opaque)\n",
      "colormap sequential: [0.00e+00, 1.72e+00, 3.45e+00] (opaque)\n",
      "colormap sequential: [0.00e+00, 4.79e+00, 9.58e+00] (opaque)\n",
      "colormap sequential: [0.00e+00, 4.79e+00, 9.58e+00] (opaque)\n",
      "colormap sequential: [0.00e+00, 4.09e+00, 8.17e+00] (opaque)\n",
      "colormap sequential: [0.00e+00, 4.09e+00, 8.17e+00] (opaque)\n",
      "colormap sequential: [0.00e+00, 4.53e+00, 9.07e+00] (opaque)\n",
      "colormap sequential: [0.00e+00, 4.53e+00, 9.07e+00] (opaque)\n",
      "colormap sequential: [0.00e+00, 4.09e+00, 8.17e+00] (opaque)\n",
      "colormap sequential: [0.00e+00, 4.09e+00, 8.17e+00] (opaque)\n",
      "colormap sequential: [0.00e+00, 4.09e+00, 8.17e+00] (opaque)\n",
      "colormap sequential: [0.00e+00, 4.09e+00, 8.17e+00] (opaque)\n",
      "colormap sequential: [0.00e+00, 4.02e+00, 8.05e+00] (opaque)\n",
      "colormap sequential: [0.00e+00, 4.02e+00, 8.05e+00] (opaque)\n",
      "colormap sequential: [0.00e+00, 3.77e+00, 7.54e+00] (opaque)\n",
      "colormap sequential: [0.00e+00, 3.77e+00, 7.54e+00] (opaque)\n",
      "colormap sequential: [0.00e+00, 3.90e+00, 7.79e+00] (opaque)\n",
      "colormap sequential: [0.00e+00, 3.90e+00, 7.79e+00] (opaque)\n"
     ]
    }
   ],
   "source": [
    "for metric in metrics:\n",
    "    cut_pos = node_z_perc_p.filter(regex = metric).mean()\n",
    "    cut_neg = node_z_perc_n.filter(regex = metric).mean()\n",
    "    \n",
    "    for hemi in ('lh', 'rh'):\n",
    "        for i in range(2):\n",
    "\n",
    "            if i == 0:\n",
    "                fig_str = hemi + '_' + metric + '_z_perc_p'\n",
    "                roi_data = node_z_perc_p.filter(regex = metric).values\n",
    "            elif i == 1:\n",
    "                fig_str = hemi + '_' + metric + '_z_perc_n'\n",
    "                roi_data = node_z_perc_n.filter(regex = metric).values\n",
    "\n",
    "            if subject_id == 'lausanne125':\n",
    "                parc_file = os.path.join('/Applications/freesurfer/subjects/', subject_id, 'label', hemi + '.myaparc_' + str(parc_scale) + '.annot')\n",
    "            elif subject_id == 'fsaverage':\n",
    "                parc_file = os.path.join('/Users/lindenmp/Dropbox/Work/ResProjects/NeuroDev_NetworkControl/figs/Parcellations/FreeSurfer5.3/fsaverage/label/',\n",
    "                                         hemi + '.Schaefer2018_' + str(parc_scale) + 'Parcels_17Networks_order.annot')\n",
    "\n",
    "            # Threshold\n",
    "            roi_data[roi_data == 0] = -1000\n",
    "\n",
    "            if np.var(roi_data) > 0:\n",
    "                # project subject's data to vertices\n",
    "                if subject_id == 'lausanne125' and metric == 'ct':\n",
    "                    brain_plot(roi_data, parcel_names[parcel_loc == 1], parc_file, fig_str, subject_id = subject_id, hemi = hemi, color = 'hot')\n",
    "                else:\n",
    "                    brain_plot(roi_data, parcel_names, parc_file, fig_str, subject_id = subject_id, hemi = hemi, color = 'hot')\n",
    "            else:\n",
    "                print('Nothing significant')"
   ]
  },
  {
   "cell_type": "code",
   "execution_count": 36,
   "metadata": {},
   "outputs": [],
   "source": [
    "%matplotlib inline"
   ]
  },
  {
   "cell_type": "markdown",
   "metadata": {},
   "source": [
    "Figure 4"
   ]
  },
  {
   "cell_type": "code",
   "execution_count": 37,
   "metadata": {},
   "outputs": [
    {
     "data": {
      "image/png": "[encoded data removed]",
      "text/plain": [
       "<Figure size 576x216 with 16 Axes>"
      ]
     },
     "metadata": {
      "needs_background": "light"
     },
     "output_type": "display_data"
    }
   ],
   "source": [
    "f, axes = plt.subplots(2, 8)\n",
    "f.set_figwidth(8)\n",
    "f.set_figheight(3)\n",
    "plt.subplots_adjust(wspace=0, hspace=0)\n",
    "\n",
    "# column 0:\n",
    "fig_str = 'lh_ct_z_perc_n.png'\n",
    "try:\n",
    "#     axes[0,0].set_title('Thickness (END)')\n",
    "    image = mpimg.imread('lat_' + fig_str); axes[0,0].imshow(image); axes[0,0].axis('off')\n",
    "except FileNotFoundError: axes[0,0].axis('off')\n",
    "try:\n",
    "    image = mpimg.imread('med_' + fig_str); axes[1,0].imshow(image); axes[1,0].axis('off')\n",
    "except FileNotFoundError: axes[1,0].axis('off')\n",
    "    \n",
    "# column 1:\n",
    "fig_str = 'lh_ct_z_perc_p.png'\n",
    "try:\n",
    "#     axes[0,1].set_title('Thickness (EPD)')\n",
    "    image = mpimg.imread('lat_' + fig_str); axes[0,1].imshow(image); axes[0,1].axis('off')\n",
    "except FileNotFoundError: axes[0,1].axis('off')\n",
    "try:\n",
    "    image = mpimg.imread('med_' + fig_str); axes[1,1].imshow(image); axes[1,1].axis('off')\n",
    "except FileNotFoundError: axes[1,1].axis('off')\n",
    "    \n",
    "# column 2:\n",
    "fig_str = 'lh_str_z_perc_n.png'\n",
    "try:\n",
    "#     axes[0,2].set_title('Strength (END)')\n",
    "    image = mpimg.imread('lat_' + fig_str); axes[0,2].imshow(image); axes[0,2].axis('off')\n",
    "except FileNotFoundError: axes[0,2].axis('off')\n",
    "try:\n",
    "    image = mpimg.imread('med_' + fig_str); axes[1,2].imshow(image); axes[1,2].axis('off')\n",
    "except FileNotFoundError: axes[1,2].axis('off')\n",
    "    \n",
    "# column 3:\n",
    "fig_str = 'lh_str_z_perc_p.png'\n",
    "try:\n",
    "#     axes[0,3].set_title('Strength (EPD)')\n",
    "    image = mpimg.imread('lat_' + fig_str); axes[0,3].imshow(image); axes[0,3].axis('off')\n",
    "except FileNotFoundError: axes[0,3].axis('off')\n",
    "try:\n",
    "    image = mpimg.imread('med_' + fig_str); axes[1,3].imshow(image); axes[1,3].axis('off')\n",
    "except FileNotFoundError: axes[1,3].axis('off')\n",
    "    \n",
    "# column 4:\n",
    "fig_str = 'lh_ac_z_perc_n.png'\n",
    "try:\n",
    "#     axes[0,4].set_title('Ave. ctrb. (END)')\n",
    "    image = mpimg.imread('lat_' + fig_str); axes[0,4].imshow(image); axes[0,4].axis('off')\n",
    "except FileNotFoundError: axes[0,4].axis('off')\n",
    "try:\n",
    "    image = mpimg.imread('med_' + fig_str); axes[1,4].imshow(image); axes[1,4].axis('off')\n",
    "except FileNotFoundError: axes[1,4].axis('off')\n",
    "    \n",
    "# column 5:\n",
    "fig_str = 'lh_ac_z_perc_p.png'\n",
    "try:\n",
    "#     axes[0,5].set_title('Ave. ctrb. (EPD)')\n",
    "    image = mpimg.imread('lat_' + fig_str); axes[0,5].imshow(image); axes[0,5].axis('off')\n",
    "except FileNotFoundError: axes[0,5].axis('off')\n",
    "try:\n",
    "    image = mpimg.imread('med_' + fig_str); axes[1,5].imshow(image); axes[1,5].axis('off')\n",
    "except FileNotFoundError: axes[1,5].axis('off')\n",
    "    \n",
    "# column 6:\n",
    "fig_str = 'lh_mc_z_perc_n.png'\n",
    "try:\n",
    "#     axes[0,6].set_title('Mod. ctrb. (END)')\n",
    "    image = mpimg.imread('lat_' + fig_str); axes[0,6].imshow(image); axes[0,6].axis('off')\n",
    "except FileNotFoundError: axes[0,6].axis('off')\n",
    "try:\n",
    "    image = mpimg.imread('med_' + fig_str); axes[1,6].imshow(image); axes[1,6].axis('off')\n",
    "except FileNotFoundError: axes[1,6].axis('off')\n",
    "    \n",
    "# column 7:\n",
    "fig_str = 'lh_mc_z_perc_p.png'\n",
    "try:\n",
    "#     axes[0,7].set_title('Mod. ctrb. (EPD)')\n",
    "    image = mpimg.imread('lat_' + fig_str); axes[0,7].imshow(image); axes[0,7].axis('off')\n",
    "except FileNotFoundError: axes[0,7].axis('off')\n",
    "try:\n",
    "    image = mpimg.imread('med_' + fig_str); axes[1,7].imshow(image); axes[1,7].axis('off')\n",
    "except FileNotFoundError: axes[1,7].axis('off')\n",
    "\n",
    "plt.show()\n",
    "# f.savefig('brain_plot_tiled_perc_pn.png', dpi = 600, bbox_inches = 'tight', pad_inches = 0)\n",
    "f.savefig('brain_plot_tiled_perc_pn.svg', dpi = 1200, bbox_inches = 'tight', pad_inches = 0)"
   ]
  }
 ],
 "metadata": {
  "kernelspec": {
   "display_name": "Python 3",
   "language": "python",
   "name": "python3"
  },
  "language_info": {
   "codemirror_mode": {
    "name": "ipython",
    "version": 3
   },
   "file_extension": ".py",
   "mimetype": "text/x-python",
   "name": "python",
   "nbconvert_exporter": "python",
   "pygments_lexer": "ipython3",
   "version": "3.7.3"
  }
 },
 "nbformat": 4,
 "nbformat_minor": 4
}
