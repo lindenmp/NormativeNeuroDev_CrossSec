{
 "cells": [
  {
   "cell_type": "markdown",
   "metadata": {},
   "source": [
    "# Results, section 1:"
   ]
  },
  {
   "cell_type": "code",
   "execution_count": 1,
   "metadata": {},
   "outputs": [],
   "source": [
    "import os, sys\n",
    "import pandas as pd\n",
    "import numpy as np\n",
    "import scipy as sp\n",
    "from scipy import stats\n",
    "import seaborn as sns\n",
    "import matplotlib.pyplot as plt"
   ]
  },
  {
   "cell_type": "code",
   "execution_count": 2,
   "metadata": {},
   "outputs": [],
   "source": [
    "sys.path.append('/Users/lindenmp/Dropbox/Work/ResProjects/NormativeNeuroDev_CrossSec/code/func/')\n",
    "from proj_environment import set_proj_env\n",
    "from func import run_corr, get_fdr_p, get_cmap"
   ]
  },
  {
   "cell_type": "code",
   "execution_count": 3,
   "metadata": {},
   "outputs": [],
   "source": [
    "train_test_str = 'squeakycleanExclude' # 'squeakycleanExclude' 'trte_psychopathology'\n",
    "exclude_str = 't1Exclude' # 't1Exclude' 'fsFinalExclude'\n",
    "parc_str = 'schaefer' # 'schaefer' 'lausanne'\n",
    "parc_scale = 400 # 125 400\n",
    "primary_covariate = 'ageAtScan1_Years'\n",
    "parcel_names, parcel_loc, drop_parcels, num_parcels, yeo_idx, yeo_labels = set_proj_env(train_test_str = train_test_str, exclude_str = exclude_str,\n",
    "                                                                            parc_str = parc_str, parc_scale = parc_scale)"
   ]
  },
  {
   "cell_type": "code",
   "execution_count": 4,
   "metadata": {},
   "outputs": [
    {
     "data": {
      "text/plain": [
       "'/Users/lindenmp/Dropbox/Work/ResProjects/NormativeNeuroDev_CrossSec/analysis/normative/t1Exclude/squeakycleanExclude/schaefer_400_streamlineCount'"
      ]
     },
     "execution_count": 4,
     "metadata": {},
     "output_type": "execute_result"
    }
   ],
   "source": [
    "os.environ['MODELDIR']"
   ]
  },
  {
   "cell_type": "markdown",
   "metadata": {},
   "source": [
    "## Load data pre-nispat data"
   ]
  },
  {
   "cell_type": "code",
   "execution_count": 5,
   "metadata": {},
   "outputs": [
    {
     "name": "stdout",
     "output_type": "stream",
     "text": [
      "(317, 21)\n",
      "(783, 21)\n"
     ]
    }
   ],
   "source": [
    "# Train\n",
    "df_train = pd.read_csv(os.path.join(os.environ['NORMATIVEDIR'], 'train.csv'))\n",
    "df_train.set_index(['bblid', 'scanid'], inplace = True); print(df_train.shape)\n",
    "df_node_train = pd.read_csv(os.path.join(os.environ['NORMATIVEDIR'], 'resp_train.csv'))\n",
    "df_node_train.set_index(['bblid', 'scanid'], inplace = True)\n",
    "\n",
    "# Test\n",
    "df_test = pd.read_csv(os.path.join(os.environ['NORMATIVEDIR'], 'test.csv'))\n",
    "df_test.set_index(['bblid', 'scanid'], inplace = True); print(df_test.shape)\n",
    "df_node_test = pd.read_csv(os.path.join(os.environ['NORMATIVEDIR'], 'resp_test.csv'))\n",
    "df_node_test.set_index(['bblid', 'scanid'], inplace = True)\n",
    "\n",
    "# concat\n",
    "df = pd.concat([df_train, df_test])\n",
    "df_node = pd.concat([df_node_train, df_node_test])"
   ]
  },
  {
   "cell_type": "markdown",
   "metadata": {},
   "source": [
    "## Age effects"
   ]
  },
  {
   "cell_type": "code",
   "execution_count": 6,
   "metadata": {},
   "outputs": [],
   "source": [
    "# age effect on training set\n",
    "df_age_effect = run_corr(df_train[primary_covariate], df_node_train, typ = 'spearmanr'); df_age_effect['p_fdr'] = get_fdr_p(df_age_effect['p'])\n",
    "if parc_str == 'lausanne':\n",
    "    df_age_effect.drop(my_list, axis = 0, inplace = True)\n",
    "age_alpha = 0.05\n",
    "age_filter = df_age_effect['p_fdr'].values < age_alpha"
   ]
  },
  {
   "cell_type": "code",
   "execution_count": 7,
   "metadata": {},
   "outputs": [
    {
     "data": {
      "text/plain": [
       "1012"
      ]
     },
     "execution_count": 7,
     "metadata": {},
     "output_type": "execute_result"
    }
   ],
   "source": [
    "age_filter.sum()"
   ]
  },
  {
   "cell_type": "markdown",
   "metadata": {},
   "source": [
    "## Load nispat outputs"
   ]
  },
  {
   "cell_type": "code",
   "execution_count": 8,
   "metadata": {},
   "outputs": [],
   "source": [
    "# Forward model\n",
    "synth_cov_test = pd.read_csv(os.path.join(os.environ['NORMATIVEDIR'], 'forward/synth_cov_test.txt'),\n",
    "                             delim_whitespace = True, names=[primary_covariate, 'sex_adj'])\n",
    "\n",
    "yhat_forward = np.loadtxt(os.path.join(os.environ['NORMATIVEDIR'], 'forward/yhat.txt'), delimiter = ' ').transpose()\n",
    "df_yhat_forward = pd.DataFrame(data = yhat_forward, index = synth_cov_test.index, columns = df_node.columns)\n",
    "\n",
    "ys2_forward = np.loadtxt(os.path.join(os.environ['NORMATIVEDIR'], 'forward/ys2.txt'), delimiter = ' ').transpose()\n",
    "df_ys2_forward = pd.DataFrame(data = ys2_forward, index = synth_cov_test.index, columns = df_node.columns)"
   ]
  },
  {
   "cell_type": "code",
   "execution_count": 9,
   "metadata": {},
   "outputs": [],
   "source": [
    "smse = np.loadtxt(os.path.join(os.environ['NORMATIVEDIR'], 'smse.txt'), delimiter = ' ').transpose()\n",
    "df_smse = pd.DataFrame(data = smse, index = df_node.columns)"
   ]
  },
  {
   "cell_type": "code",
   "execution_count": 10,
   "metadata": {},
   "outputs": [],
   "source": [
    "smse_thresh = 1\n",
    "smse_filter = df_smse.values < smse_thresh\n",
    "smse_filter = smse_filter.reshape(-1)"
   ]
  },
  {
   "cell_type": "code",
   "execution_count": 11,
   "metadata": {},
   "outputs": [
    {
     "data": {
      "text/plain": [
       "1023"
      ]
     },
     "execution_count": 11,
     "metadata": {},
     "output_type": "execute_result"
    }
   ],
   "source": [
    "smse_filter.sum()"
   ]
  },
  {
   "cell_type": "code",
   "execution_count": 12,
   "metadata": {},
   "outputs": [
    {
     "name": "stdout",
     "output_type": "stream",
     "text": [
      "False\n",
      "14.0\n"
     ]
    },
    {
     "data": {
      "text/html": [
       "<div>\n",
       "<style scoped>\n",
       "    .dataframe tbody tr th:only-of-type {\n",
       "        vertical-align: middle;\n",
       "    }\n",
       "\n",
       "    .dataframe tbody tr th {\n",
       "        vertical-align: top;\n",
       "    }\n",
       "\n",
       "    .dataframe thead th {\n",
       "        text-align: right;\n",
       "    }\n",
       "</style>\n",
       "<table border=\"1\" class=\"dataframe\">\n",
       "  <thead>\n",
       "    <tr style=\"text-align: right;\">\n",
       "      <th></th>\n",
       "      <th>0</th>\n",
       "      <th>1</th>\n",
       "    </tr>\n",
       "  </thead>\n",
       "  <tbody>\n",
       "    <tr>\n",
       "      <th>ct_0</th>\n",
       "      <td>-1.326431</td>\n",
       "      <td>-1.305994</td>\n",
       "    </tr>\n",
       "    <tr>\n",
       "      <th>ct_1</th>\n",
       "      <td>-1.954306</td>\n",
       "      <td>-1.981008</td>\n",
       "    </tr>\n",
       "    <tr>\n",
       "      <th>ct_2</th>\n",
       "      <td>-1.715613</td>\n",
       "      <td>-1.728359</td>\n",
       "    </tr>\n",
       "    <tr>\n",
       "      <th>ct_3</th>\n",
       "      <td>-2.422433</td>\n",
       "      <td>-2.449050</td>\n",
       "    </tr>\n",
       "    <tr>\n",
       "      <th>ct_4</th>\n",
       "      <td>-0.222513</td>\n",
       "      <td>-0.208736</td>\n",
       "    </tr>\n",
       "  </tbody>\n",
       "</table>\n",
       "</div>"
      ],
      "text/plain": [
       "             0         1\n",
       "ct_0 -1.326431 -1.305994\n",
       "ct_1 -1.954306 -1.981008\n",
       "ct_2 -1.715613 -1.728359\n",
       "ct_3 -2.422433 -2.449050\n",
       "ct_4 -0.222513 -0.208736"
      ]
     },
     "execution_count": 12,
     "metadata": {},
     "output_type": "execute_result"
    }
   ],
   "source": [
    "df_yhat_forward_tmp = df_yhat_forward + (df_yhat_forward.abs().max()+1)\n",
    "print((df_yhat_forward_tmp<0).any().any())\n",
    "\n",
    "annualized = True\n",
    "if annualized:\n",
    "    elapsed_time = synth_cov_test.loc[synth_cov_test['sex_adj'] == 0,'ageAtScan1_Years'].iloc[-1] - synth_cov_test.loc[synth_cov_test['sex_adj'] == 0,'ageAtScan1_Years'].iloc[0]\n",
    "    print(elapsed_time)\n",
    "    x = (df_yhat_forward_tmp[synth_cov_test['sex_adj'] == 0].iloc[-1,:] / df_yhat_forward_tmp[synth_cov_test['sex_adj'] == 0].iloc[0,:]) - 1\n",
    "    df_yhat_tmp1 = (np.power(1+x.abs(),1/elapsed_time)-1)*100\n",
    "    df_yhat_tmp1[x<0] = df_yhat_tmp1[x<0]*-1\n",
    "\n",
    "    x = (df_yhat_forward_tmp[synth_cov_test['sex_adj'] == 1].iloc[-1,:] / df_yhat_forward_tmp[synth_cov_test['sex_adj'] == 1].iloc[0,:]) - 1\n",
    "    df_yhat_tmp2 = (np.power(1+x.abs(),1/elapsed_time)-1)*100\n",
    "    df_yhat_tmp2[x<0] = df_yhat_tmp2[x<0]*-1\n",
    "else:\n",
    "    df_yhat_tmp1 = ((df_yhat_forward_tmp[synth_cov_test['sex_adj'] == 0].iloc[-1,:] / df_yhat_forward_tmp[synth_cov_test['sex_adj'] == 0].iloc[0,:]) - 1) * 100\n",
    "    df_yhat_tmp2 = ((df_yhat_forward_tmp[synth_cov_test['sex_adj'] == 1].iloc[-1,:] / df_yhat_forward_tmp[synth_cov_test['sex_adj'] == 1].iloc[0,:]) - 1) * 100\n",
    "\n",
    "df_yhat_diff = pd.concat((df_yhat_tmp1, df_yhat_tmp2), axis = 1)\n",
    "df_yhat_diff.head()"
   ]
  },
  {
   "cell_type": "markdown",
   "metadata": {},
   "source": [
    "# Plots"
   ]
  },
  {
   "cell_type": "code",
   "execution_count": 13,
   "metadata": {},
   "outputs": [
    {
     "name": "stdout",
     "output_type": "stream",
     "text": [
      "('ct', 'str', 'ac', 'mc')\n"
     ]
    }
   ],
   "source": [
    "if not os.path.exists(os.environ['FIGDIR']): os.makedirs(os.environ['FIGDIR'])\n",
    "os.chdir(os.environ['FIGDIR'])\n",
    "sns.set(style='white', context = 'paper', font_scale = 1)\n",
    "cmap = get_cmap('pair')\n",
    "\n",
    "metrics = ('ct', 'str', 'ac', 'mc')\n",
    "metrics_label_short = ('Thickness', 'Strength', 'Ave. ctrb.', 'Mod. ctrb.')\n",
    "metrics_label = ('Thickness', 'Strength', 'Average controllability', 'Modal controllability')\n",
    "print(metrics)"
   ]
  },
  {
   "cell_type": "markdown",
   "metadata": {},
   "source": [
    "## Brain plots nispat"
   ]
  },
  {
   "cell_type": "code",
   "execution_count": 14,
   "metadata": {},
   "outputs": [],
   "source": [
    "import matplotlib.image as mpimg\n",
    "from brain_plot_func import roi_to_vtx, brain_plot"
   ]
  },
  {
   "cell_type": "code",
   "execution_count": 15,
   "metadata": {},
   "outputs": [],
   "source": [
    "if parc_str == 'schaefer':\n",
    "    subject_id = 'fsaverage'\n",
    "elif parc_str == 'lausanne':\n",
    "    subject_id = 'lausanne125'"
   ]
  },
  {
   "cell_type": "code",
   "execution_count": 16,
   "metadata": {},
   "outputs": [
    {
     "name": "stdout",
     "output_type": "stream",
     "text": [
      "Populating the interactive namespace from numpy and matplotlib\n"
     ]
    },
    {
     "name": "stderr",
     "output_type": "stream",
     "text": [
      "/Users/lindenmp/.virtualenvs/NeuroDev_NetworkControl/lib/python3.7/site-packages/IPython/core/magics/pylab.py:160: UserWarning: pylab import has clobbered these variables: ['get_cmap']\n",
      "`%matplotlib` prevents importing * from pylab and numpy\n",
      "  \"\\n`%matplotlib` prevents importing * from pylab and numpy\"\n"
     ]
    }
   ],
   "source": [
    "%pylab qt"
   ]
  },
  {
   "cell_type": "markdown",
   "metadata": {},
   "source": [
    "0 = Male, 1 = Female"
   ]
  },
  {
   "cell_type": "code",
   "execution_count": 17,
   "metadata": {},
   "outputs": [
    {
     "name": "stdout",
     "output_type": "stream",
     "text": [
      "3\n",
      "colormap divergent: center=0.00e+00, [0.00e+00, 1.50e+00, 3.00e+00] (opaque)\n",
      "colormap divergent: center=0.00e+00, [0.00e+00, 1.50e+00, 3.00e+00] (opaque)\n",
      "3\n",
      "colormap divergent: center=0.00e+00, [0.00e+00, 1.50e+00, 3.00e+00] (opaque)\n",
      "colormap divergent: center=0.00e+00, [0.00e+00, 1.50e+00, 3.00e+00] (opaque)\n",
      "3\n",
      "colormap divergent: center=0.00e+00, [0.00e+00, 1.50e+00, 3.00e+00] (opaque)\n",
      "colormap divergent: center=0.00e+00, [0.00e+00, 1.50e+00, 3.00e+00] (opaque)\n",
      "3\n",
      "colormap divergent: center=0.00e+00, [0.00e+00, 1.50e+00, 3.00e+00] (opaque)\n",
      "colormap divergent: center=0.00e+00, [0.00e+00, 1.50e+00, 3.00e+00] (opaque)\n",
      "30\n",
      "colormap divergent: center=0.00e+00, [0.00e+00, 1.50e+01, 3.00e+01] (opaque)\n",
      "colormap divergent: center=0.00e+00, [0.00e+00, 1.50e+01, 3.00e+01] (opaque)\n",
      "30\n",
      "colormap divergent: center=0.00e+00, [0.00e+00, 1.50e+01, 3.00e+01] (opaque)\n",
      "colormap divergent: center=0.00e+00, [0.00e+00, 1.50e+01, 3.00e+01] (opaque)\n",
      "30\n",
      "colormap divergent: center=0.00e+00, [0.00e+00, 1.50e+01, 3.00e+01] (opaque)\n",
      "colormap divergent: center=0.00e+00, [0.00e+00, 1.50e+01, 3.00e+01] (opaque)\n",
      "30\n",
      "colormap divergent: center=0.00e+00, [0.00e+00, 1.50e+01, 3.00e+01] (opaque)\n",
      "colormap divergent: center=0.00e+00, [0.00e+00, 1.50e+01, 3.00e+01] (opaque)\n",
      "4\n",
      "colormap divergent: center=0.00e+00, [0.00e+00, 2.00e+00, 4.00e+00] (opaque)\n",
      "colormap divergent: center=0.00e+00, [0.00e+00, 2.00e+00, 4.00e+00] (opaque)\n",
      "4\n",
      "colormap divergent: center=0.00e+00, [0.00e+00, 2.00e+00, 4.00e+00] (opaque)\n",
      "colormap divergent: center=0.00e+00, [0.00e+00, 2.00e+00, 4.00e+00] (opaque)\n",
      "4\n",
      "colormap divergent: center=0.00e+00, [0.00e+00, 2.00e+00, 4.00e+00] (opaque)\n",
      "colormap divergent: center=0.00e+00, [0.00e+00, 2.00e+00, 4.00e+00] (opaque)\n",
      "4\n",
      "colormap divergent: center=0.00e+00, [0.00e+00, 2.00e+00, 4.00e+00] (opaque)\n",
      "colormap divergent: center=0.00e+00, [0.00e+00, 2.00e+00, 4.00e+00] (opaque)\n",
      "1\n",
      "colormap divergent: center=0.00e+00, [0.00e+00, 5.00e-01, 1.00e+00] (opaque)\n",
      "colormap divergent: center=0.00e+00, [0.00e+00, 5.00e-01, 1.00e+00] (opaque)\n",
      "1\n",
      "colormap divergent: center=0.00e+00, [0.00e+00, 5.00e-01, 1.00e+00] (opaque)\n",
      "colormap divergent: center=0.00e+00, [0.00e+00, 5.00e-01, 1.00e+00] (opaque)\n",
      "1\n",
      "colormap divergent: center=0.00e+00, [0.00e+00, 5.00e-01, 1.00e+00] (opaque)\n",
      "colormap divergent: center=0.00e+00, [0.00e+00, 5.00e-01, 1.00e+00] (opaque)\n",
      "1\n",
      "colormap divergent: center=0.00e+00, [0.00e+00, 5.00e-01, 1.00e+00] (opaque)\n",
      "colormap divergent: center=0.00e+00, [0.00e+00, 5.00e-01, 1.00e+00] (opaque)\n"
     ]
    }
   ],
   "source": [
    "for metric in metrics:\n",
    "    for hemi in ('lh', 'rh'):\n",
    "        for sx in ('sex0','sex1'):\n",
    "            # Plots of age correlation\n",
    "            fig_str = hemi + '_' + metric + '_age_' + sx + '_frwd'\n",
    "            if sx == 'sex0':\n",
    "                roi_data = df_yhat_diff.loc[:,0].filter(regex = metric, axis = 0).values\n",
    "            elif sx == 'sex1':\n",
    "                roi_data = df_yhat_diff.loc[:,1].filter(regex = metric, axis = 0).values\n",
    "            age_filt = df_age_effect.filter(regex = metric, axis = 0)['p_fdr'].values < age_alpha\n",
    "            smse_filt = df_smse.filter(regex = metric, axis = 0).values < smse_thresh\n",
    "            smse_filt = smse_filt.reshape(-1)\n",
    "            region_filt = np.logical_and(age_filt,smse_filt)\n",
    "\n",
    "            roi_data[~region_filt] = -1000\n",
    "            if metric == 'ct':\n",
    "                center_anchor = 3\n",
    "            if metric == 'str':\n",
    "                center_anchor = 30\n",
    "            elif metric == 'ac':\n",
    "                center_anchor = 4\n",
    "            elif metric == 'mc':\n",
    "                center_anchor = 1\n",
    "\n",
    "            if region_filt.any():\n",
    "                if subject_id == 'lausanne125':\n",
    "                    parc_file = os.path.join('/Applications/freesurfer/subjects/', subject_id, 'label', hemi + '.myaparc_' + str(parc_scale) + '.annot')\n",
    "                elif subject_id == 'fsaverage':\n",
    "                    parc_file = os.path.join('/Users/lindenmp/Dropbox/Work/ResProjects/NeuroDev_NetworkControl/figs/Parcellations/FreeSurfer5.3/fsaverage/label/',\n",
    "                                             hemi + '.Schaefer2018_' + str(parc_scale) + 'Parcels_17Networks_order.annot')\n",
    "\n",
    "                if subject_id == 'lausanne125' and metric == 'ct':\n",
    "                    brain_plot(roi_data, parcel_names[parcel_loc == 1], parc_file, fig_str, subject_id = subject_id, hemi = hemi, color = 'coolwarm', center_anchor = center_anchor)\n",
    "                else:\n",
    "                    brain_plot(roi_data, parcel_names, parc_file, fig_str, subject_id = subject_id, hemi = hemi, color = 'coolwarm', center_anchor = center_anchor)\n",
    "            else:\n",
    "                print('Nothing significant')"
   ]
  },
  {
   "cell_type": "markdown",
   "metadata": {},
   "source": [
    "# Figures"
   ]
  },
  {
   "cell_type": "code",
   "execution_count": 18,
   "metadata": {},
   "outputs": [],
   "source": [
    "%matplotlib inline"
   ]
  },
  {
   "cell_type": "markdown",
   "metadata": {},
   "source": [
    "Figure 2C (top)"
   ]
  },
  {
   "cell_type": "code",
   "execution_count": 19,
   "metadata": {},
   "outputs": [
    {
     "data": {
      "image/png": "[encoded data removed]",
      "text/plain": [
       "<Figure size 288x144 with 8 Axes>"
      ]
     },
     "metadata": {
      "needs_background": "light"
     },
     "output_type": "display_data"
    }
   ],
   "source": [
    "# Age effects\n",
    "f, axes = plt.subplots(2, 4)\n",
    "# f.suptitle('age')\n",
    "f.set_figwidth(4)\n",
    "f.set_figheight(2)\n",
    "plt.subplots_adjust(wspace=0, hspace=0)\n",
    "\n",
    "my_str = '_sex1_frwd'\n",
    "# column 0:\n",
    "fig_str = 'lh_ct_age'+my_str+'.png'\n",
    "try:\n",
    "#     axes[0,0].set_title('Thickness (left)')\n",
    "    image = mpimg.imread('lat_' + fig_str); axes[0,0].imshow(image); axes[0,0].axis('off')\n",
    "except FileNotFoundError: axes[0,0].axis('off')\n",
    "try:\n",
    "    image = mpimg.imread('med_' + fig_str); axes[1,0].imshow(image); axes[1,0].axis('off')\n",
    "except FileNotFoundError: axes[1,0].axis('off')\n",
    "    \n",
    "# column 1:\n",
    "fig_str = 'rh_ct_age'+my_str+'.png'\n",
    "try:\n",
    "#     axes[0,1].set_title('Thickness (right)')\n",
    "    image = mpimg.imread('lat_' + fig_str); axes[0,1].imshow(image); axes[0,1].axis('off')\n",
    "except FileNotFoundError: axes[0,1].axis('off')\n",
    "try:\n",
    "    image = mpimg.imread('med_' + fig_str); axes[1,1].imshow(image); axes[1,1].axis('off')\n",
    "except FileNotFoundError: axes[1,1].axis('off')\n",
    "    \n",
    "# column 2:\n",
    "fig_str = 'lh_str_age'+my_str+'.png'\n",
    "try:\n",
    "#     axes[0,2].set_title('Ave. ctrb. (left)')\n",
    "    image = mpimg.imread('lat_' + fig_str); axes[0,2].imshow(image); axes[0,2].axis('off')\n",
    "except FileNotFoundError: axes[0,2].axis('off')\n",
    "try:\n",
    "    image = mpimg.imread('med_' + fig_str); axes[1,2].imshow(image); axes[1,2].axis('off')\n",
    "except FileNotFoundError: axes[1,2].axis('off')\n",
    "    \n",
    "# column 3:\n",
    "fig_str = 'rh_str_age'+my_str+'.png'\n",
    "try:\n",
    "#     axes[0,3].set_title('Ave. ctrb. (right)')\n",
    "    image = mpimg.imread('lat_' + fig_str); axes[0,3].imshow(image); axes[0,3].axis('off')\n",
    "except FileNotFoundError: axes[0,3].axis('off')\n",
    "try:\n",
    "    image = mpimg.imread('med_' + fig_str); axes[1,3].imshow(image); axes[1,3].axis('off')\n",
    "except FileNotFoundError: axes[1,3].axis('off')\n",
    "\n",
    "plt.show()\n",
    "f.savefig('brain_age_ct-str'+my_str+'.svg', dpi = 1200, bbox_inches = 'tight', pad_inches = 0)"
   ]
  },
  {
   "cell_type": "markdown",
   "metadata": {},
   "source": [
    "Figure 2C (bottom)"
   ]
  },
  {
   "cell_type": "code",
   "execution_count": 20,
   "metadata": {},
   "outputs": [
    {
     "data": {
      "image/png": "[encoded data removed]",
      "text/plain": [
       "<Figure size 288x144 with 8 Axes>"
      ]
     },
     "metadata": {
      "needs_background": "light"
     },
     "output_type": "display_data"
    }
   ],
   "source": [
    "# Age effects\n",
    "f, axes = plt.subplots(2, 4)\n",
    "# f.suptitle('age')\n",
    "f.set_figwidth(4)\n",
    "f.set_figheight(2)\n",
    "plt.subplots_adjust(wspace=0, hspace=0)\n",
    "\n",
    "my_str = '_sex1_frwd'\n",
    "# column 0:\n",
    "fig_str = 'lh_ac_age'+my_str+'.png'\n",
    "try:\n",
    "#     axes[0,0].set_title('Thickness (left)')\n",
    "    image = mpimg.imread('lat_' + fig_str); axes[0,0].imshow(image); axes[0,0].axis('off')\n",
    "except FileNotFoundError: axes[0,0].axis('off')\n",
    "try:\n",
    "    image = mpimg.imread('med_' + fig_str); axes[1,0].imshow(image); axes[1,0].axis('off')\n",
    "except FileNotFoundError: axes[1,0].axis('off')\n",
    "    \n",
    "# column 1:\n",
    "fig_str = 'rh_ac_age'+my_str+'.png'\n",
    "try:\n",
    "#     axes[0,1].set_title('Thickness (right)')\n",
    "    image = mpimg.imread('lat_' + fig_str); axes[0,1].imshow(image); axes[0,1].axis('off')\n",
    "except FileNotFoundError: axes[0,1].axis('off')\n",
    "try:\n",
    "    image = mpimg.imread('med_' + fig_str); axes[1,1].imshow(image); axes[1,1].axis('off')\n",
    "except FileNotFoundError: axes[1,1].axis('off')\n",
    "    \n",
    "# column 2:\n",
    "fig_str = 'lh_mc_age'+my_str+'.png'\n",
    "try:\n",
    "#     axes[0,2].set_title('Ave. ctrb. (left)')\n",
    "    image = mpimg.imread('lat_' + fig_str); axes[0,2].imshow(image); axes[0,2].axis('off')\n",
    "except FileNotFoundError: axes[0,2].axis('off')\n",
    "try:\n",
    "    image = mpimg.imread('med_' + fig_str); axes[1,2].imshow(image); axes[1,2].axis('off')\n",
    "except FileNotFoundError: axes[1,2].axis('off')\n",
    "    \n",
    "# column 3:\n",
    "fig_str = 'rh_mc_age'+my_str+'.png'\n",
    "try:\n",
    "#     axes[0,3].set_title('Ave. ctrb. (right)')\n",
    "    image = mpimg.imread('lat_' + fig_str); axes[0,3].imshow(image); axes[0,3].axis('off')\n",
    "except FileNotFoundError: axes[0,3].axis('off')\n",
    "try:\n",
    "    image = mpimg.imread('med_' + fig_str); axes[1,3].imshow(image); axes[1,3].axis('off')\n",
    "except FileNotFoundError: axes[1,3].axis('off')\n",
    "\n",
    "plt.show()\n",
    "f.savefig('brain_age_ac-mc'+my_str+'.svg', dpi = 1200, bbox_inches = 'tight', pad_inches = 0)"
   ]
  },
  {
   "cell_type": "markdown",
   "metadata": {},
   "source": [
    "eFigure 1A"
   ]
  },
  {
   "cell_type": "code",
   "execution_count": 21,
   "metadata": {},
   "outputs": [
    {
     "data": {
      "image/png": "[encoded data removed]",
      "text/plain": [
       "<Figure size 576x144 with 16 Axes>"
      ]
     },
     "metadata": {
      "needs_background": "light"
     },
     "output_type": "display_data"
    }
   ],
   "source": [
    "# Age effects\n",
    "f, axes = plt.subplots(2, 8)\n",
    "# f.suptitle('age')\n",
    "f.set_figwidth(8)\n",
    "f.set_figheight(2)\n",
    "plt.subplots_adjust(wspace=0, hspace=0)\n",
    "\n",
    "my_str = '_sex0_frwd'\n",
    "# column 0:\n",
    "fig_str = 'lh_ct_age'+my_str+'.png'\n",
    "try:\n",
    "#     axes[0,0].set_title('Thickness (left)')\n",
    "    image = mpimg.imread('lat_' + fig_str); axes[0,0].imshow(image); axes[0,0].axis('off')\n",
    "except FileNotFoundError: axes[0,0].axis('off')\n",
    "try:\n",
    "    image = mpimg.imread('med_' + fig_str); axes[1,0].imshow(image); axes[1,0].axis('off')\n",
    "except FileNotFoundError: axes[1,0].axis('off')\n",
    "    \n",
    "# column 1:\n",
    "fig_str = 'rh_ct_age'+my_str+'.png'\n",
    "try:\n",
    "#     axes[0,1].set_title('Thickness (right)')\n",
    "    image = mpimg.imread('lat_' + fig_str); axes[0,1].imshow(image); axes[0,1].axis('off')\n",
    "except FileNotFoundError: axes[0,1].axis('off')\n",
    "try:\n",
    "    image = mpimg.imread('med_' + fig_str); axes[1,1].imshow(image); axes[1,1].axis('off')\n",
    "except FileNotFoundError: axes[1,1].axis('off')\n",
    "    \n",
    "# column 2:\n",
    "fig_str = 'lh_str_age'+my_str+'.png'\n",
    "try:\n",
    "#     axes[0,2].set_title('Degree (left)')\n",
    "    image = mpimg.imread('lat_' + fig_str); axes[0,2].imshow(image); axes[0,2].axis('off')\n",
    "except FileNotFoundError: axes[0,2].axis('off')\n",
    "try:\n",
    "    image = mpimg.imread('med_' + fig_str); axes[1,2].imshow(image); axes[1,2].axis('off')\n",
    "except FileNotFoundError: axes[1,2].axis('off')\n",
    "    \n",
    "# column 3:\n",
    "fig_str = 'rh_str_age'+my_str+'.png'\n",
    "try:\n",
    "#     axes[0,3].set_title('Degree (right)')\n",
    "    image = mpimg.imread('lat_' + fig_str); axes[0,3].imshow(image); axes[0,3].axis('off')\n",
    "except FileNotFoundError: axes[0,3].axis('off')\n",
    "try:\n",
    "    image = mpimg.imread('med_' + fig_str); axes[1,3].imshow(image); axes[1,3].axis('off')\n",
    "except FileNotFoundError: axes[1,3].axis('off')\n",
    "    \n",
    "# column 4:\n",
    "fig_str = 'lh_ac_age'+my_str+'.png'\n",
    "try:\n",
    "#     axes[0,4].set_title('Ave. ctrb. (left)')\n",
    "    image = mpimg.imread('lat_' + fig_str); axes[0,4].imshow(image); axes[0,4].axis('off')\n",
    "except FileNotFoundError: axes[0,4].axis('off')\n",
    "try:\n",
    "    image = mpimg.imread('med_' + fig_str); axes[1,4].imshow(image); axes[1,4].axis('off')\n",
    "except FileNotFoundError: axes[1,4].axis('off')\n",
    "    \n",
    "# column 5:\n",
    "fig_str = 'rh_ac_age'+my_str+'.png'\n",
    "try:\n",
    "#     axes[0,5].set_title('Ave. ctrb. (right)')\n",
    "    image = mpimg.imread('lat_' + fig_str); axes[0,5].imshow(image); axes[0,5].axis('off')\n",
    "except FileNotFoundError: axes[0,5].axis('off')\n",
    "try:\n",
    "    image = mpimg.imread('med_' + fig_str); axes[1,5].imshow(image); axes[1,5].axis('off')\n",
    "except FileNotFoundError: axes[1,5].axis('off')\n",
    "    \n",
    "# column 6:\n",
    "fig_str = 'lh_mc_age'+my_str+'.png'\n",
    "try:\n",
    "#     axes[0,6].set_title('Mod. ctrb. (left)')\n",
    "    image = mpimg.imread('lat_' + fig_str); axes[0,6].imshow(image); axes[0,6].axis('off')\n",
    "except FileNotFoundError: axes[0,6].axis('off')\n",
    "try:\n",
    "    image = mpimg.imread('med_' + fig_str); axes[1,6].imshow(image); axes[1,6].axis('off')\n",
    "except FileNotFoundError: axes[1,6].axis('off')\n",
    "    \n",
    "# column 7:\n",
    "fig_str = 'rh_mc_age'+my_str+'.png'\n",
    "try:\n",
    "#     axes[0,7].set_title('Mod. ctrb. (right)')\n",
    "    image = mpimg.imread('lat_' + fig_str); axes[0,7].imshow(image); axes[0,7].axis('off')\n",
    "except FileNotFoundError: axes[0,7].axis('off')\n",
    "try:\n",
    "    image = mpimg.imread('med_' + fig_str); axes[1,7].imshow(image); axes[1,7].axis('off')\n",
    "except FileNotFoundError: axes[1,7].axis('off')\n",
    "\n",
    "plt.show()\n",
    "f.savefig('brain_age'+my_str+'.svg', dpi = 1200, bbox_inches = 'tight', pad_inches = 0)"
   ]
  }
 ],
 "metadata": {
  "kernelspec": {
   "display_name": "Python 3",
   "language": "python",
   "name": "python3"
  },
  "language_info": {
   "codemirror_mode": {
    "name": "ipython",
    "version": 3
   },
   "file_extension": ".py",
   "mimetype": "text/x-python",
   "name": "python",
   "nbconvert_exporter": "python",
   "pygments_lexer": "ipython3",
   "version": "3.7.3"
  }
 },
 "nbformat": 4,
 "nbformat_minor": 4
}
